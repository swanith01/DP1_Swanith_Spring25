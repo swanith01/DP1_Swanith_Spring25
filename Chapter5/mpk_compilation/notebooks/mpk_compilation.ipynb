{
 "cells": [
  {
   "cell_type": "markdown",
   "metadata": {},
   "source": [
    "## Introduction"
   ]
  },
  {
   "cell_type": "markdown",
   "metadata": {},
   "source": [
    "This notebook makes the matter power spectrum figure from [Chabanier et al. (2019)](link-not-live-yet) and [Planck 2018: I (2018)](https://arxiv.org/abs/1807.06205). \n",
    "\n",
    "You can chose \"Run All\" and the very last cell of the notebook creates the plot (the notebook will take about ~10min to run through the first time, the majority of time spent on a very-high-accuracy call to CAMB). \n",
    "\n",
    "*Note:* the different top-level sections make use of some of the same variables names (e.g. `k` and `z`), so if you go back to re-evaluate something in a section, make sure to re-evaluate the entire section from the beginning to reset these variables.\n",
    "\n",
    "This notebook is written in [Julia](https://julialang.org/). It also calls a number of Python functions, and performs plotting via matplotlib. "
   ]
  },
  {
   "cell_type": "code",
   "execution_count": 24,
   "metadata": {
    "ExecuteTime": {
     "end_time": "2018-07-03T09:46:53.194000Z",
     "start_time": "2018-07-03T09:46:33.937Z"
    }
   },
   "outputs": [],
   "source": [
    "using Base.Iterators: take, repeated\n",
    "import Base: getindex\n",
    "\n",
    "using DelimitedFiles\n",
    "using FITSIO\n",
    "using Interpolations\n",
    "using LinearAlgebra\n",
    "using Optim\n",
    "using PyCall\n",
    "using PyPlot\n",
    "using SpecialFunctions\n",
    "using Statistics\n",
    "\n",
    "camb = pyimport(\"camb\")\n",
    "trapz(x,f,axis=0) = pyimport(\"scipy.integrate\").trapz(f,x,axis=axis);"
   ]
  },
  {
   "cell_type": "markdown",
   "metadata": {},
   "source": [
    "## Intitialization"
   ]
  },
  {
   "cell_type": "markdown",
   "metadata": {},
   "source": [
    "## Fiducial model"
   ]
  },
  {
   "cell_type": "markdown",
   "metadata": {},
   "source": [
    "These values can be changed, then the whole notebook can be rerun to produce the final plot assuming a different ficudical model:"
   ]
  },
  {
   "cell_type": "code",
   "execution_count": 25,
   "metadata": {
    "ExecuteTime": {
     "end_time": "2018-07-03T09:46:53.790000Z",
     "start_time": "2018-07-03T09:46:34.219Z"
    }
   },
   "outputs": [],
   "source": [
    "τ   = 0.0543\n",
    "Aₛ  = exp(3.0448)*1e-10\n",
    "nₛ  = 0.96605\n",
    "H₀  = 67.32\n",
    "h   = H₀/100\n",
    "ωb  = 0.022383\n",
    "ωc  = 0.12011\n",
    "Σmν = 0.06\n",
    "\n",
    "kₚ  = 0.05\n",
    "T₀  = 2.7255\n",
    "\n",
    "Ωm = (ωc+ωb+Σmν/94)/h^2\n",
    "ΩΛ = 1 - Ωm;"
   ]
  },
  {
   "cell_type": "markdown",
   "metadata": {},
   "source": [
    "## CMB and matter transfer functions"
   ]
  },
  {
   "cell_type": "markdown",
   "metadata": {},
   "source": [
    "Here we call CAMB to compute the CMB and matter transfer functions. Note we're computing them at every $\\ell$ and at somewhat higher accuracy than normal, so this step may take a few minutes. "
   ]
  },
  {
   "cell_type": "code",
   "execution_count": 26,
   "metadata": {
    "ExecuteTime": {
     "end_time": "2018-07-03T09:46:54.188000Z",
     "start_time": "2018-07-03T09:46:35.947Z"
    }
   },
   "outputs": [],
   "source": [
    "z = z_CMB = collect(range(0,3.5,length=150));"
   ]
  },
  {
   "cell_type": "code",
   "execution_count": 27,
   "metadata": {
    "ExecuteTime": {
     "end_time": "2018-07-03T09:48:19.503000Z",
     "start_time": "2018-07-03T09:46:36.053Z"
    }
   },
   "outputs": [
    {
     "name": "stdout",
     "output_type": "stream",
     "text": [
      "Note: redshifts have been re-sorted (earliest first)\n"
     ]
    }
   ],
   "source": [
    "p = camb.set_params(\n",
    "    As=Aₛ, ns=nₛ, H0=H₀, ombh2=ωb, omch2=ωc, tau=τ, mnu=Σmν, \n",
    "    pivot_scalar=kₚ, AccuracyBoost=2, lSampleBoost=50, TCMB=T₀, redshifts=z, k_eta_fac=10, lmax=2600\n",
    ")\n",
    "r = camb.get_results(p)\n",
    "t = r.get_cmb_transfer_data()\n",
    "mt = r.get_matter_transfer_data();"
   ]
  },
  {
   "cell_type": "code",
   "execution_count": 28,
   "metadata": {
    "ExecuteTime": {
     "end_time": "2018-07-03T09:48:23.211000Z",
     "start_time": "2018-07-03T09:46:36.555Z"
    }
   },
   "outputs": [],
   "source": [
    "ℓ = ℓ_CMB = 1:2508\n",
    "toCℓ = @. 1/(ℓ*(ℓ+1)/(2π))\n",
    "\n",
    "CℓTT = @. 1e12 * T₀^2 * r.get_unlensed_scalar_cls(2508)[2:end,1] * toCℓ\n",
    "CℓEE = @. 1e12 * T₀^2 * r.get_unlensed_scalar_cls(2508)[2:end,2] * toCℓ\n",
    "CℓTE = @. 1e12 * T₀^2 * r.get_unlensed_scalar_cls(2508)[2:end,4] * toCℓ\n",
    "Cℓϕϕ = @.      1/(2π) * r.get_lens_potential_cls(2508)[2:end,1]  * toCℓ^2;"
   ]
  },
  {
   "cell_type": "markdown",
   "metadata": {},
   "source": [
    "Next, take the output from CAMB and put it in our matrix `Wkℓ` $\\equiv W_\\ell(k)$ defined such that\n",
    "\n",
    "$$\n",
    "C_\\ell = \\int d\\ln k \\;W_\\ell(k) P_*(k)\n",
    "$$\n",
    "\n",
    "where $P_*(k)$ is the primordial power spectrum. "
   ]
  },
  {
   "cell_type": "code",
   "execution_count": 29,
   "metadata": {
    "ExecuteTime": {
     "end_time": "2018-07-03T09:48:29.815000Z",
     "start_time": "2018-07-03T09:46:38.055Z"
    }
   },
   "outputs": [],
   "source": [
    "k = k_CMB = t.q\n",
    "dlnk = diff(log.(k))\n",
    "dlnk = [dlnk[1]; dlnk]\n",
    "\n",
    "WkℓTT = @. 4*pi*1e12*T₀^2 * t.delta_p_l_k[1,:,:]^2\n",
    "WkℓTT = [0; WkℓTT][ℓ,:]\n",
    "\n",
    "WkℓEE = @. 4*pi*1e12*T₀^2 * t.delta_p_l_k[2,:,:]^2\n",
    "WkℓEE = [0; WkℓEE][ℓ,:] .* (ℓ.*(ℓ.+1)).^2\n",
    "\n",
    "WkℓTE = @. 4*pi*1e12*T₀^2 * t.delta_p_l_k[1,:,:] .* t.delta_p_l_k[2,:,:]\n",
    "WkℓTE = [0; WkℓTE][ℓ,:] .* (ℓ.*(ℓ.+1))\n",
    "\n",
    "Wkℓϕϕ = @. 4*pi * t.delta_p_l_k[3,:,:]^2\n",
    "Wkℓϕϕ = [0; Wkℓϕϕ][ℓ,:];"
   ]
  },
  {
   "cell_type": "markdown",
   "metadata": {},
   "source": [
    "We can check this is right by doing the sum over $P_*(k)$ ourselves to verify we get the CMB spectrum back:"
   ]
  },
  {
   "cell_type": "code",
   "execution_count": 30,
   "metadata": {
    "ExecuteTime": {
     "end_time": "2018-07-03T09:48:34.433000Z",
     "start_time": "2018-07-03T09:46:38.299Z"
    }
   },
   "outputs": [
    {
     "data": {
      "image/png": "[encoded data removed]",
      "text/plain": [
       "Figure(PyObject <Figure size 640x480 with 1 Axes>)"
      ]
     },
     "metadata": {},
     "output_type": "display_data"
    }
   ],
   "source": [
    "loglog(ℓ,      WkℓTT * (Aₛ*(k/kₚ).^(nₛ-1) .* dlnk),  lw=3, c=\"C0\")\n",
    "loglog(ℓ,      WkℓEE * (Aₛ*(k/kₚ).^(nₛ-1) .* dlnk),  lw=3, c=\"C0\")\n",
    "loglog(ℓ, abs.(WkℓTE * (Aₛ*(k/kₚ).^(nₛ-1) .* dlnk)), lw=3, c=\"C0\")\n",
    "loglog(ℓ,      Wkℓϕϕ * (Aₛ*(k/kₚ).^(nₛ-1) .* dlnk),  lw=3, c=\"C0\")\n",
    "\n",
    "\n",
    "loglog(ℓ,      CℓTT,  c=\"C1\")\n",
    "loglog(ℓ,      CℓEE,  c=\"C1\")\n",
    "loglog(ℓ, abs.(CℓTE), c=\"C1\")\n",
    "loglog(ℓ,      Cℓϕϕ,  c=\"C1\");"
   ]
  },
  {
   "cell_type": "markdown",
   "metadata": {},
   "source": [
    "Similarly, compute the matter transfer functions, such that \n",
    "$$P(k) = T(k)^2 P_*(k)$$"
   ]
  },
  {
   "cell_type": "code",
   "execution_count": 31,
   "metadata": {
    "ExecuteTime": {
     "end_time": "2018-07-03T09:51:46.447000Z",
     "start_time": "2018-07-03T09:48:46.908Z"
    }
   },
   "outputs": [],
   "source": [
    "Pdat   = camb.get_matter_power_interpolator(p, nonlinear=false, hubble_units=false, k_hunit=false, kmax=15, zmax=3.5, extrap_kmax=500)\n",
    "PNLdat = camb.get_matter_power_interpolator(p, nonlinear=true,  hubble_units=false, k_hunit=false, kmax=15, zmax=3.5, extrap_kmax=500);"
   ]
  },
  {
   "cell_type": "code",
   "execution_count": 32,
   "metadata": {
    "ExecuteTime": {
     "end_time": "2018-07-03T09:58:55.104000Z",
     "start_time": "2018-07-03T09:58:55.093Z"
    }
   },
   "outputs": [],
   "source": [
    "Pkz(k,z) = Pdat.P(z,k)\n",
    "PNLkz(k,z) = PNLdat.P(z,k)\n",
    "Tkz²(k,z) = Pkz(k,z) ./ (Aₛ*(k/kₚ).^(nₛ-1))\n",
    "\n",
    "getindex(::typeof(Pkz), idx...) = Pkz(idx...)\n",
    "getindex(::typeof(PNLkz), idx...) = PNLkz(idx...)\n",
    "getindex(::typeof(Tkz²), idx...) = Tkz²(idx...);"
   ]
  },
  {
   "cell_type": "markdown",
   "metadata": {},
   "source": [
    "and recompute the matter spectrum by hand to check everything is right:"
   ]
  },
  {
   "cell_type": "code",
   "execution_count": 33,
   "metadata": {
    "ExecuteTime": {
     "end_time": "2018-07-03T09:58:05.997000Z",
     "start_time": "2018-07-03T09:58:05.416Z"
    }
   },
   "outputs": [
    {
     "data": {
      "image/png": "[encoded data removed]",
      "text/plain": [
       "Figure(PyObject <Figure size 640x480 with 1 Axes>)"
      ]
     },
     "metadata": {},
     "output_type": "display_data"
    }
   ],
   "source": [
    "loglog(k/h, h^3 *  Tkz²[k,0] .* (Aₛ*(k/kₚ).^(nₛ-1)),lw=3)\n",
    "loglog(k/h, h^3 *   Pkz[k,0]);\n",
    "loglog(k/h, h^3 * PNLkz[k,0]);\n",
    "\n",
    "xlim(1e-4,30)\n",
    "ylim(1,5e4)\n",
    "ylabel(raw\"$\\; P_m(k) \\; [({\\rm Mpc}/h)^3]$\")\n",
    "xlabel(raw\"${\\rm Wavenumber} \\; k \\; [h/{\\rm Mpc}]$\");"
   ]
  },
  {
   "cell_type": "markdown",
   "metadata": {},
   "source": [
    "## Planck"
   ]
  },
  {
   "cell_type": "code",
   "execution_count": 34,
   "metadata": {},
   "outputs": [],
   "source": [
    "ℓ = ℓ_CMB;\n",
    "k = k_CMB;"
   ]
  },
  {
   "cell_type": "markdown",
   "metadata": {},
   "source": [
    "### Low-ℓ"
   ]
  },
  {
   "cell_type": "code",
   "execution_count": 35,
   "metadata": {},
   "outputs": [],
   "source": [
    "toDℓ = @. (2:29)*((2:29)+1)/(2π)\n",
    "(d_low_TT, σ_low_TT) = (readdlm(\"dat/cls_commander_2018_rc_TT.dat\", comments=true)[1:28,i] ./ toDℓ for i=4:5);"
   ]
  },
  {
   "cell_type": "markdown",
   "metadata": {},
   "source": [
    "### High-ℓ"
   ]
  },
  {
   "cell_type": "code",
   "execution_count": 36,
   "metadata": {
    "ExecuteTime": {
     "end_time": "2017-12-22T12:51:38.855000+01:00",
     "start_time": "2017-12-22T11:49:32.642Z"
    }
   },
   "outputs": [],
   "source": [
    "# the binning specification\n",
    "blmin, blmax = (round.(Int,readdlm(\"dat/plik_lite_v22_TTTEEE.clik/clik/lkl_0/_external/bl$m.dat\")) for m=[\"min\",\"max\"])\n",
    "bweight = readdlm(\"dat/plik_lite_v22_TTTEEE.clik/clik/lkl_0/_external/bweight.dat\");\n",
    "B_high = hcat([(r=zeros(2508); r[(30+lmin):(30+lmax)]=bweight[(1+lmin):(1+lmax)]; r) for (lmin,lmax) in take(zip(blmin,blmax),214)]...);\n",
    "\n",
    "# the covariance\n",
    "Σ_high = (open(\"dat/plik_lite_v22_TTTEEE.clik/clik/lkl_0/_external/c_matrix_plik_v22.dat\") do f\n",
    "    read(f,Int32) #fortran header\n",
    "    s = read!(f,Matrix{Float64}(undef, 613, 613))\n",
    "    (s+s') - Diagonal(diag(s))\n",
    "end);\n",
    "Σ_high_TT = Σ_high[1:214,1:214]\n",
    "Σ_high_TE = Σ_high[216:414,216:414]\n",
    "Σ_high_EE = Σ_high[415:end,415:end]\n",
    "\n",
    "# the data\n",
    "d_high_TT = readdlm(\"dat/plik_lite_v22_TTTEEE.clik/clik/lkl_0/_external/cl_cmb_plik_v22.dat\")[1:214,2]\n",
    "d_high_TE = readdlm(\"dat/plik_lite_v22_TTTEEE.clik/clik/lkl_0/_external/cl_cmb_plik_v22.dat\")[216:414,2]\n",
    "d_high_EE = readdlm(\"dat/plik_lite_v22_TTTEEE.clik/clik/lkl_0/_external/cl_cmb_plik_v22.dat\")[415:end,2];"
   ]
  },
  {
   "cell_type": "code",
   "execution_count": 37,
   "metadata": {
    "ExecuteTime": {
     "end_time": "2017-12-22T12:51:39.144000+01:00",
     "start_time": "2017-12-22T11:49:32.644Z"
    }
   },
   "outputs": [],
   "source": [
    "# for TT, combine low and high-L into a single vector\n",
    "n_low, n_high = length(d_low_TT), length(d_high_TT)\n",
    "d_planck_TT = [d_low_TT; d_high_TT]\n",
    "Σ_planck_TT = [Diagonal(σ_low_TT.^2) zeros(n_low,n_high); zeros(n_high,n_low) Σ_high_TT]\n",
    "B_planck_TT = [[zeros(1,28); I; zeros(2507-28, 28)] B_high]\n",
    "\n",
    "nbinsTT = size(B_planck_TT,2);\n",
    "nbinsEE = size(B_high,2);"
   ]
  },
  {
   "cell_type": "markdown",
   "metadata": {},
   "source": [
    "Plot data up with theory curve to sanity check we've loaded everything right:"
   ]
  },
  {
   "cell_type": "code",
   "execution_count": 38,
   "metadata": {
    "ExecuteTime": {
     "end_time": "2017-12-22T12:51:40.479000+01:00",
     "start_time": "2017-12-22T11:49:32.646Z"
    }
   },
   "outputs": [
    {
     "ename": "LoadError",
     "evalue": "PyError ($(Expr(:escape, :(ccall(#= /home/swanith/.julia/packages/PyCall/1gn3u/src/pyfncall.jl:43 =# @pysym(:PyObject_Call), PyPtr, (PyPtr, PyPtr, PyPtr), o, pyargsptr, kw))))) <class 'AttributeError'>\nAttributeError(\"'Line2D' object has no property 'C'\")\n  File \"/usr/lib/python3/dist-packages/matplotlib/pyplot.py\", line 2667, in loglog\n    return gca().loglog(*args, **kwargs)\n  File \"/usr/lib/python3/dist-packages/matplotlib/axes/_axes.py\", line 1770, in loglog\n    return self.plot(\n  File \"/usr/lib/python3/dist-packages/matplotlib/axes/_axes.py\", line 1632, in plot\n    lines = [*self._get_lines(*args, data=data, **kwargs)]\n  File \"/usr/lib/python3/dist-packages/matplotlib/axes/_base.py\", line 312, in __call__\n    yield from self._plot_args(this, kwargs)\n  File \"/usr/lib/python3/dist-packages/matplotlib/axes/_base.py\", line 538, in _plot_args\n    return [l[0] for l in result]\n  File \"/usr/lib/python3/dist-packages/matplotlib/axes/_base.py\", line 538, in <listcomp>\n    return [l[0] for l in result]\n  File \"/usr/lib/python3/dist-packages/matplotlib/axes/_base.py\", line 531, in <genexpr>\n    result = (make_artist(x[:, j % ncx], y[:, j % ncy], kw,\n  File \"/usr/lib/python3/dist-packages/matplotlib/axes/_base.py\", line 351, in _makeline\n    seg = mlines.Line2D(x, y, **kw)\n  File \"/usr/lib/python3/dist-packages/matplotlib/lines.py\", line 393, in __init__\n    self.update(kwargs)\n  File \"/usr/lib/python3/dist-packages/matplotlib/artist.py\", line 1064, in update\n    raise AttributeError(f\"{type(self).__name__!r} object \"\n",
     "output_type": "error",
     "traceback": [
      "PyError ($(Expr(:escape, :(ccall(#= /home/swanith/.julia/packages/PyCall/1gn3u/src/pyfncall.jl:43 =# @pysym(:PyObject_Call), PyPtr, (PyPtr, PyPtr, PyPtr), o, pyargsptr, kw))))) <class 'AttributeError'>\nAttributeError(\"'Line2D' object has no property 'C'\")\n  File \"/usr/lib/python3/dist-packages/matplotlib/pyplot.py\", line 2667, in loglog\n    return gca().loglog(*args, **kwargs)\n  File \"/usr/lib/python3/dist-packages/matplotlib/axes/_axes.py\", line 1770, in loglog\n    return self.plot(\n  File \"/usr/lib/python3/dist-packages/matplotlib/axes/_axes.py\", line 1632, in plot\n    lines = [*self._get_lines(*args, data=data, **kwargs)]\n  File \"/usr/lib/python3/dist-packages/matplotlib/axes/_base.py\", line 312, in __call__\n    yield from self._plot_args(this, kwargs)\n  File \"/usr/lib/python3/dist-packages/matplotlib/axes/_base.py\", line 538, in _plot_args\n    return [l[0] for l in result]\n  File \"/usr/lib/python3/dist-packages/matplotlib/axes/_base.py\", line 538, in <listcomp>\n    return [l[0] for l in result]\n  File \"/usr/lib/python3/dist-packages/matplotlib/axes/_base.py\", line 531, in <genexpr>\n    result = (make_artist(x[:, j % ncx], y[:, j % ncy], kw,\n  File \"/usr/lib/python3/dist-packages/matplotlib/axes/_base.py\", line 351, in _makeline\n    seg = mlines.Line2D(x, y, **kw)\n  File \"/usr/lib/python3/dist-packages/matplotlib/lines.py\", line 393, in __init__\n    self.update(kwargs)\n  File \"/usr/lib/python3/dist-packages/matplotlib/artist.py\", line 1064, in update\n    raise AttributeError(f\"{type(self).__name__!r} object \"\n",
      "",
      "Stacktrace:",
      "  [1] pyerr_check",
      "    @ ~/.julia/packages/PyCall/1gn3u/src/exception.jl:75 [inlined]",
      "  [2] pyerr_check",
      "    @ ~/.julia/packages/PyCall/1gn3u/src/exception.jl:79 [inlined]",
      "  [3] _handle_error(msg::String)",
      "    @ PyCall ~/.julia/packages/PyCall/1gn3u/src/exception.jl:96",
      "  [4] macro expansion",
      "    @ ~/.julia/packages/PyCall/1gn3u/src/exception.jl:110 [inlined]",
      "  [5] #107",
      "    @ ~/.julia/packages/PyCall/1gn3u/src/pyfncall.jl:43 [inlined]",
      "  [6] disable_sigint",
      "    @ ./c.jl:167 [inlined]",
      "  [7] __pycall!",
      "    @ ~/.julia/packages/PyCall/1gn3u/src/pyfncall.jl:42 [inlined]",
      "  [8] _pycall!(ret::PyObject, o::PyObject, args::Tuple{Vector{Float64}, Vector{Float64}}, nargs::Int64, kw::PyObject)",
      "    @ PyCall ~/.julia/packages/PyCall/1gn3u/src/pyfncall.jl:29",
      "  [9] _pycall!(ret::PyObject, o::PyObject, args::Tuple{Vector{Float64}, Vector{Float64}}, kwargs::@Kwargs{C::String, lw::Int64})",
      "    @ PyCall ~/.julia/packages/PyCall/1gn3u/src/pyfncall.jl:11",
      " [10] pycall(::PyObject, ::Type{PyAny}, ::Vector{Float64}, ::Vararg{Vector{Float64}}; kwargs::@Kwargs{C::String, lw::Int64})",
      "    @ PyCall ~/.julia/packages/PyCall/1gn3u/src/pyfncall.jl:83",
      " [11] loglog(::Vector{Float64}, ::Vararg{Vector{Float64}}; kws::@Kwargs{C::String, lw::Int64})",
      "    @ PyPlot ~/.julia/packages/PyPlot/G422O/src/PyPlot.jl:194",
      " [12] top-level scope",
      "    @ In[38]:1"
     ]
    }
   ],
   "source": [
    "loglog((B_planck_TT'*ℓ), d_planck_TT, C=\"C0\", lw=3)\n",
    "plot(B_planck_TT'*ℓ, B_planck_TT'*CℓTT,c=\"C1\")\n",
    "\n",
    "loglog((B_high'*ℓ)[1:199], abs.(d_high_TE), c=\"C0\", lw=3)\n",
    "plot(B_high'*ℓ, B_high'*abs.(CℓTE),c=\"C1\")\n",
    "\n",
    "loglog((B_high'*ℓ)[1:199], d_high_EE, c=\"C0\", lw=3)\n",
    "plot(B_high'*ℓ, B_high'*CℓEE,c=\"C1\");"
   ]
  },
  {
   "cell_type": "markdown",
   "metadata": {},
   "source": [
    "### Lensing"
   ]
  },
  {
   "cell_type": "code",
   "execution_count": 39,
   "metadata": {},
   "outputs": [],
   "source": [
    "d = readdlm(\"dat/planck_lensing_2018/smicadx12_Dec5_ftl_mv2_ndclpp_p_teb_agr2_bandpowers.dat\", comments=true)\n",
    "d_ϕϕ = d[:,5]\n",
    "Σ_ϕϕ = Diagonal(d[:,6].^2)\n",
    "blmin,blmax = Int.(d[:,2]), Int.(d[:,3])\n",
    "B_ϕϕ = hcat([(r=zeros(2508); r[lmin:lmax].=1/(lmax-lmin+1); r) for (lmin,lmax) in zip(blmin,blmax)]...);"
   ]
  },
  {
   "cell_type": "code",
   "execution_count": 40,
   "metadata": {
    "ExecuteTime": {
     "end_time": "2017-12-22T12:51:41.260000+01:00",
     "start_time": "2017-12-22T11:49:32.651Z"
    }
   },
   "outputs": [
    {
     "data": {
      "image/png": "[encoded data removed]",
      "text/plain": [
       "Figure(PyObject <Figure size 640x480 with 1 Axes>)"
      ]
     },
     "metadata": {},
     "output_type": "display_data"
    }
   ],
   "source": [
    "errorbar((blmin+blmax)/2, d_ϕϕ, sqrt.(diag(Σ_ϕϕ)),marker=\".\",ls=\"\")\n",
    "semilogx((blmin+blmax)/2, B_ϕϕ' * (@. Cℓϕϕ * (ℓ*(ℓ+1))^2/(2π)));"
   ]
  },
  {
   "cell_type": "markdown",
   "metadata": {},
   "source": [
    "### Functions for plotting Planck data"
   ]
  },
  {
   "cell_type": "code",
   "execution_count": 41,
   "metadata": {
    "ExecuteTime": {
     "end_time": "2017-12-22T12:51:50.581000+01:00",
     "start_time": "2017-12-22T11:49:32.672Z"
    }
   },
   "outputs": [
    {
     "data": {
      "text/plain": [
       "get_quantiles (generic function with 1 method)"
      ]
     },
     "execution_count": 41,
     "metadata": {},
     "output_type": "execute_result"
    }
   ],
   "source": [
    "# gets 20/50/80% quantiles of a probability distribution P(x) * dx, \n",
    "function get_quantiles(x, Px, dx)\n",
    "    cs = cumsum(abs.(Px) .* dx)\n",
    "    cs /= cs[end]\n",
    "    inz = @. (cs>0) & (cs<1)\n",
    "    itp = interpolate((cs[inz],),x[inz],Gridded(Linear()))\n",
    "    itp[[0.2,0.5,0.8]]\n",
    "end"
   ]
  },
  {
   "cell_type": "code",
   "execution_count": 42,
   "metadata": {
    "ExecuteTime": {
     "end_time": "2017-12-22T12:51:50.581000+01:00",
     "start_time": "2017-12-22T11:49:32.672Z"
    }
   },
   "outputs": [
    {
     "data": {
      "text/plain": [
       "make_plot (generic function with 1 method)"
      ]
     },
     "execution_count": 42,
     "metadata": {},
     "output_type": "execute_result"
    }
   ],
   "source": [
    "function get_plot_data(d, Σ, B, Cℓ, Wkℓ, k, ℓ, nrebin, tg_style=false)\n",
    "    \n",
    "    # rebin the data\n",
    "    lmins = cumsum([1; nrebin])[1:end-1]\n",
    "    lims = zip(lmins, @. lmins+nrebin-1)\n",
    "    nbins = size(B,2)\n",
    "    B2 = hcat([(r=zeros(nbins); r[l1:l2].=1; normalize!(r,1)) for (l1,l2)=lims]...);\n",
    "    nbins2 = size(B2,2)\n",
    "    \n",
    "    # compute \n",
    "    if tg_style\n",
    "        Wki = B2'*B'*Wkℓ\n",
    "    else\n",
    "        Wki = B2'*B'*Wkℓ ./ Tkz²[k,0]'\n",
    "    end\n",
    "    Pi = Wki ./ sum(Wki .* dlnk', dims=2)\n",
    "    ℓkmap = hcat(get_quantiles.((k,),[Pi[i,:] for i=1:nbins2],(dlnk,))...)'\n",
    "    \n",
    "    σCℓ_over_Cℓ = sqrt.(diag(B2'*Σ*B2)) ./ (B2'*d)\n",
    "    f = (B2' * d) ./ (B2' * B' * Cℓ)\n",
    "    \n",
    "    σCℓ_over_Cℓ, ℓkmap, f, Pi, B2'*B'*ℓ\n",
    "    \n",
    "end\n",
    "    \n",
    "function make_plot(σCℓ_over_Cℓ, ℓkmap, f, args...; residual=false, kpow=0, kwargs...)\n",
    "    \n",
    "    # make plot\n",
    "    m = h^3 * Pkz[ℓkmap[:,2],0] .* ℓkmap[:,2].^kpow\n",
    "    errorbar(\n",
    "        ℓkmap[:,2]/h,\n",
    "        residual ? m.*(f.-1) : m.*f;\n",
    "        yerr = m .* σCℓ_over_Cℓ,\n",
    "        xerr = abs.(ℓkmap[:,[1,3]].-ℓkmap[:,2])'/h,\n",
    "        ebar_kwargs...,\n",
    "        kwargs...\n",
    "    )\n",
    "    \n",
    "end"
   ]
  },
  {
   "cell_type": "code",
   "execution_count": 43,
   "metadata": {
    "ExecuteTime": {
     "end_time": "2017-12-22T12:51:53.838000+01:00",
     "start_time": "2017-12-22T11:49:32.674Z"
    }
   },
   "outputs": [
    {
     "data": {
      "image/png": "[encoded data removed]",
      "text/plain": [
       "Figure(PyObject <Figure size 640x480 with 1 Axes>)"
      ]
     },
     "metadata": {},
     "output_type": "display_data"
    }
   ],
   "source": [
    "# _,ℓkmap,_,Pi,ℓbin = get_plot_data(d_planck_TT, Σ_planck_TT, B_planck_TT,     CℓTT, WkℓTT, k, [[1, 3, 15, 15]; fill(5,2); fill(10,5); fill(20,7)])\n",
    "# _,ℓkmap,_,Pi,ℓbin = get_plot_data(d_high_EE,   Σ_high_EE,   B_high[:,1:199], CℓEE, WkℓEE, k, [fill(5,2); fill(10,5); fill(20,6); 19])\n",
    "# _,ℓkmap,_,Pi,ℓbin = get_plot_data(d_high_TE,   Σ_high_TE,   B_high[:,1:199], CℓTE, WkℓTE, k, [fill(5,2); fill(10,5); fill(20,6); 19])\n",
    "_,ℓkmap,_,Pi,ℓbin = get_plot_data(d_ϕϕ,   Σ_ϕϕ,   B_ϕϕ, Cℓϕϕ, Wkℓϕϕ, k, ℓ, [1,1,2,2,2,3,3], false)\n",
    "\n",
    "\n",
    "for i = 1:1:size(ℓkmap,1)\n",
    "    T = Pi[i,:]\n",
    "    l, = semilogx(k/h, T)\n",
    "    low,mid,high = get_quantiles(k, T, [0; diff(log.(k))])\n",
    "    fill_between(k/h, 0T, T.*ifelse.(low.<k.<high,1,0), color=l.get_color(), alpha=0.5)\n",
    "    imid = findmin(@. (k-mid)^2)[2]\n",
    "    plot(fill(k[imid]/h,2),[0,T[imid]], color=l.get_color())\n",
    "\n",
    "end\n",
    "ylabel(raw\"$\\; W_{\\ell}(k) $\")\n",
    "xlabel(raw\"${\\rm Wavenumber} \\; k \\; [h/{\\rm Mpc}]$\");"
   ]
  },
  {
   "cell_type": "markdown",
   "metadata": {},
   "source": [
    "## Reid et al. 2010 $P_{halo}(k)$"
   ]
  },
  {
   "cell_type": "markdown",
   "metadata": {},
   "source": [
    "Here we call the modified version of CAMB to compute the halo matter power spectrum (instead of the linear matter power spectrum), using the fiducial cosmological parameters specified above:"
   ]
  },
  {
   "cell_type": "code",
   "execution_count": 1,
   "metadata": {},
   "outputs": [
    {
     "name": "stderr",
     "output_type": "stream",
     "text": [
      "\u001b[36m\u001b[1m[ \u001b[22m\u001b[39m\u001b[36m\u001b[1mInfo: \u001b[22m\u001b[39mInstalling camb4py via the Conda camb4py package...\n",
      "\u001b[36m\u001b[1m[ \u001b[22m\u001b[39m\u001b[36m\u001b[1mInfo: \u001b[22m\u001b[39mRunning `conda install -y camb4py` in root environment\n"
     ]
    },
    {
     "name": "stdout",
     "output_type": "stream",
     "text": [
      "Channels:\n",
      " - conda-forge\n",
      "Platform: linux-64\n",
      "doneecting package metadata (repodata.json): ...working... \n",
      "failedg environment: ...working... \n"
     ]
    },
    {
     "name": "stderr",
     "output_type": "stream",
     "text": [
      "\n",
      "PackagesNotFoundError: The following packages are not available from current channels:\n",
      "\n",
      "  - camb4py\n",
      "\n",
      "Current channels:\n",
      "\n",
      "  - https://conda.anaconda.org/conda-forge\n",
      "\n",
      "To search for alternate channels that may provide the conda package you're\n",
      "looking for, navigate to\n",
      "\n",
      "    https://anaconda.org\n",
      "\n",
      "and use the search bar at the top of the page.\n",
      "\n",
      "\n"
     ]
    },
    {
     "ename": "LoadError",
     "evalue": "failed process: Process(setenv(`\u001b[4m/home/swanith/.julia/conda/3/x86_64/bin/conda\u001b[24m \u001b[4minstall\u001b[24m \u001b[4m-y\u001b[24m \u001b[4mcamb4py\u001b[24m`,[\"PYTHONIOENCODING=UTF-8\", \"PATH=/usr/lib/jvm/jre-8u291-linux-x64/jre1.8.0_291/bin:/home/swanith/.local/bin:/usr/local/sbin:/usr/local/bin:/usr/sbin:/usr/bin:/sbin:/bin:/usr/games:/usr/local/games:/snap/bin:/snap/bin\", \"DEFAULTS_PATH=/usr/share/gconf/ubuntu.default.path\", \"QT_ACCESSIBILITY=1\", \"LD_LIBRARY_PATH=/usr/lib/jvm/jre-8u291-linux-x64/jre1.8.0_291/lib:\", \"DBUS_SESSION_BUS_ADDRESS=unix:path=/run/user/1001/bus\", \"XDG_CURRENT_DESKTOP=ubuntu:GNOME\", \"LANG=en_IN\", \"LOGNAME=swanith\", \"GNOME_DESKTOP_SESSION_ID=this-is-deprecated\"  …  \"XMODIFIERS=@im=ibus\", \"SSH_AGENT_LAUNCHER=gnome-keyring\", \"LINES=30\", \"HOME=/home/swanith\", \"TERM=xterm-256color\", \"WINDOWPATH=2\", \"LS_COLORS=rs=0:di=01;34:ln=01;36:mh=00:pi=40;33:so=01;35:do=01;35:bd=40;33;01:cd=40;33;01:or=40;31;01:mi=00:su=37;41:sg=30;43:ca=30;41:tw=30;42:ow=34;42:st=37;44:ex=01;32:*.tar=01;31:*.tgz=01;31:*.arc=01;31:*.arj=01;31:*.taz=01;31:*.lha=01;31:*.lz4=01;31:*.lzh=01;31:*.lzma=01;31:*.tlz=01;31:*.txz=01;31:*.tzo=01;31:*.t7z=01;31:*.zip=01;31:*.z=01;31:*.dz=01;31:*.gz=01;31:*.lrz=01;31:*.lz=01;31:*.lzo=01;31:*.xz=01;31:*.zst=01;31:*.tzst=01;31:*.bz2=01;31:*.bz=01;31:*.tbz=01;31:*.tbz2=01;31:*.tz=01;31:*.deb=01;31:*.rpm=01;31:*.jar=01;31:*.war=01;31:*.ear=01;31:*.sar=01;31:*.rar=01;31:*.alz=01;31:*.ace=01;31:*.zoo=01;31:*.cpio=01;31:*.7z=01;31:*.rz=01;31:*.cab=01;31:*.wim=01;31:*.swm=01;31:*.dwm=01;31:*.esd=01;31:*.jpg=01;35:*.jpeg=01;35:*.mjpg=01;35:*.mjpeg=01;35:*.gif=01;35:*.bmp=01;35:*.pbm=01;35:*.pgm=01;35:*.ppm=01;35:*.tga=01;35:*.xbm=01;35:*.xpm=01;35:*.tif=01;35:*.tiff=01;35:*.png=01;35:*.svg=01;35:*.svgz=01;35:*.mng=01;35:*.pcx=01;35:*.mov=01;35:*.mpg=01;35:*.mpeg=01;35:*.m2v=01;35:*.mkv=01;35:*.webm=01;35:*.webp=01;35:*.ogm=01;35:*.mp4=01;35:*.m4v=01;35:*.mp4v=01;35:*.vob=01;35:*.qt=01;35:*.nuv=01;35:*.wmv=01;35:*.asf=01;35:*.rm=01;35:*.rmvb=01;35:*.flc=01;35:*.avi=01;35:*.fli=01;35:*.flv=01;35:*.gl=01;35:*.dl=01;35:*.xcf=01;35:*.xwd=01;35:*.yuv=01;35:*.cgm=01;35:*.emf=01;35:*.ogv=01;35:*.ogx=01;35:*.aac=00;36:*.au=00;36:*.flac=00;36:*.m4a=00;36:*.mid=00;36:*.midi=00;36:*.mka=00;36:*.mp3=00;36:*.mpc=00;36:*.ogg=00;36:*.ra=00;36:*.wav=00;36:*.oga=00;36:*.opus=00;36:*.spx=00;36:*.xspf=00;36:\", \"COLORTERM=truecolor\", \"OPENBLAS_MAIN_FREE=1\", \"VTE_VERSION=6800\"]), ProcessExited(1)) [1]\n",
     "output_type": "error",
     "traceback": [
      "failed process: Process(setenv(`\u001b[4m/home/swanith/.julia/conda/3/x86_64/bin/conda\u001b[24m \u001b[4minstall\u001b[24m \u001b[4m-y\u001b[24m \u001b[4mcamb4py\u001b[24m`,[\"PYTHONIOENCODING=UTF-8\", \"PATH=/usr/lib/jvm/jre-8u291-linux-x64/jre1.8.0_291/bin:/home/swanith/.local/bin:/usr/local/sbin:/usr/local/bin:/usr/sbin:/usr/bin:/sbin:/bin:/usr/games:/usr/local/games:/snap/bin:/snap/bin\", \"DEFAULTS_PATH=/usr/share/gconf/ubuntu.default.path\", \"QT_ACCESSIBILITY=1\", \"LD_LIBRARY_PATH=/usr/lib/jvm/jre-8u291-linux-x64/jre1.8.0_291/lib:\", \"DBUS_SESSION_BUS_ADDRESS=unix:path=/run/user/1001/bus\", \"XDG_CURRENT_DESKTOP=ubuntu:GNOME\", \"LANG=en_IN\", \"LOGNAME=swanith\", \"GNOME_DESKTOP_SESSION_ID=this-is-deprecated\"  …  \"XMODIFIERS=@im=ibus\", \"SSH_AGENT_LAUNCHER=gnome-keyring\", \"LINES=30\", \"HOME=/home/swanith\", \"TERM=xterm-256color\", \"WINDOWPATH=2\", \"LS_COLORS=rs=0:di=01;34:ln=01;36:mh=00:pi=40;33:so=01;35:do=01;35:bd=40;33;01:cd=40;33;01:or=40;31;01:mi=00:su=37;41:sg=30;43:ca=30;41:tw=30;42:ow=34;42:st=37;44:ex=01;32:*.tar=01;31:*.tgz=01;31:*.arc=01;31:*.arj=01;31:*.taz=01;31:*.lha=01;31:*.lz4=01;31:*.lzh=01;31:*.lzma=01;31:*.tlz=01;31:*.txz=01;31:*.tzo=01;31:*.t7z=01;31:*.zip=01;31:*.z=01;31:*.dz=01;31:*.gz=01;31:*.lrz=01;31:*.lz=01;31:*.lzo=01;31:*.xz=01;31:*.zst=01;31:*.tzst=01;31:*.bz2=01;31:*.bz=01;31:*.tbz=01;31:*.tbz2=01;31:*.tz=01;31:*.deb=01;31:*.rpm=01;31:*.jar=01;31:*.war=01;31:*.ear=01;31:*.sar=01;31:*.rar=01;31:*.alz=01;31:*.ace=01;31:*.zoo=01;31:*.cpio=01;31:*.7z=01;31:*.rz=01;31:*.cab=01;31:*.wim=01;31:*.swm=01;31:*.dwm=01;31:*.esd=01;31:*.jpg=01;35:*.jpeg=01;35:*.mjpg=01;35:*.mjpeg=01;35:*.gif=01;35:*.bmp=01;35:*.pbm=01;35:*.pgm=01;35:*.ppm=01;35:*.tga=01;35:*.xbm=01;35:*.xpm=01;35:*.tif=01;35:*.tiff=01;35:*.png=01;35:*.svg=01;35:*.svgz=01;35:*.mng=01;35:*.pcx=01;35:*.mov=01;35:*.mpg=01;35:*.mpeg=01;35:*.m2v=01;35:*.mkv=01;35:*.webm=01;35:*.webp=01;35:*.ogm=01;35:*.mp4=01;35:*.m4v=01;35:*.mp4v=01;35:*.vob=01;35:*.qt=01;35:*.nuv=01;35:*.wmv=01;35:*.asf=01;35:*.rm=01;35:*.rmvb=01;35:*.flc=01;35:*.avi=01;35:*.fli=01;35:*.flv=01;35:*.gl=01;35:*.dl=01;35:*.xcf=01;35:*.xwd=01;35:*.yuv=01;35:*.cgm=01;35:*.emf=01;35:*.ogv=01;35:*.ogx=01;35:*.aac=00;36:*.au=00;36:*.flac=00;36:*.m4a=00;36:*.mid=00;36:*.midi=00;36:*.mka=00;36:*.mp3=00;36:*.mpc=00;36:*.ogg=00;36:*.ra=00;36:*.wav=00;36:*.oga=00;36:*.opus=00;36:*.spx=00;36:*.xspf=00;36:\", \"COLORTERM=truecolor\", \"OPENBLAS_MAIN_FREE=1\", \"VTE_VERSION=6800\"]), ProcessExited(1)) [1]\n",
      "",
      "Stacktrace:",
      " [1] pipeline_error",
      "   @ ./process.jl:598 [inlined]",
      " [2] run(::Cmd; wait::Bool)",
      "   @ Base ./process.jl:513",
      " [3] run",
      "   @ ./process.jl:510 [inlined]",
      " [4] runconda(args::Cmd, env::String)",
      "   @ Conda ~/.julia/packages/Conda/zReqD/src/Conda.jl:182",
      " [5] add(pkg::String, env::String; channel::String, satisfied_skip_solve::Bool, args::Cmd)",
      "   @ Conda ~/.julia/packages/Conda/zReqD/src/Conda.jl:343",
      " [6] add (repeats 2 times)",
      "   @ ~/.julia/packages/Conda/zReqD/src/Conda.jl:326 [inlined]",
      " [7] pyimport_conda(modulename::String, condapkg::String, channel::String)",
      "   @ PyCall ~/.julia/packages/PyCall/1gn3u/src/PyCall.jl:721",
      " [8] pyimport_conda(modulename::String, condapkg::String)",
      "   @ PyCall ~/.julia/packages/PyCall/1gn3u/src/PyCall.jl:715",
      " [9] top-level scope",
      "   @ In[1]:2"
     ]
    }
   ],
   "source": [
    "using PyCall\n",
    "pyimport_conda(\"camb4py\", \"camb4py\")\n"
   ]
  },
  {
   "cell_type": "code",
   "execution_count": 2,
   "metadata": {
    "ExecuteTime": {
     "end_time": "2017-12-22T12:51:44.185000+01:00",
     "start_time": "2017-12-22T11:49:32.656Z"
    }
   },
   "outputs": [
    {
     "ename": "LoadError",
     "evalue": "PyError (PyImport_ImportModule\n\nThe Python package camb4py could not be imported by pyimport. Usually this means\nthat you did not install camb4py in the Python version being used by PyCall.\n\nPyCall is currently configured to use the Julia-specific Python distribution\ninstalled by the Conda.jl package.  To install the camb4py module, you can\nuse `pyimport_conda(\"camb4py\", PKG)`, where PKG is the Anaconda\npackage that contains the module camb4py, or alternatively you can use the\nConda package directly (via `using Conda` followed by `Conda.add` etcetera).\n\nAlternatively, if you want to use a different Python distribution on your\nsystem, such as a system-wide Python (as opposed to the Julia-specific Python),\nyou can re-configure PyCall with that Python.   As explained in the PyCall\ndocumentation, set ENV[\"PYTHON\"] to the path/name of the python executable\nyou want to use, run Pkg.build(\"PyCall\"), and re-launch Julia.\n\n) <class 'ModuleNotFoundError'>\nModuleNotFoundError(\"No module named 'camb4py'\")\n",
     "output_type": "error",
     "traceback": [
      "PyError (PyImport_ImportModule\n\nThe Python package camb4py could not be imported by pyimport. Usually this means\nthat you did not install camb4py in the Python version being used by PyCall.\n\nPyCall is currently configured to use the Julia-specific Python distribution\ninstalled by the Conda.jl package.  To install the camb4py module, you can\nuse `pyimport_conda(\"camb4py\", PKG)`, where PKG is the Anaconda\npackage that contains the module camb4py, or alternatively you can use the\nConda package directly (via `using Conda` followed by `Conda.add` etcetera).\n\nAlternatively, if you want to use a different Python distribution on your\nsystem, such as a system-wide Python (as opposed to the Julia-specific Python),\nyou can re-configure PyCall with that Python.   As explained in the PyCall\ndocumentation, set ENV[\"PYTHON\"] to the path/name of the python executable\nyou want to use, run Pkg.build(\"PyCall\"), and re-launch Julia.\n\n) <class 'ModuleNotFoundError'>\nModuleNotFoundError(\"No module named 'camb4py'\")\n",
      "",
      "Stacktrace:",
      " [1] pyimport(name::String)",
      "   @ PyCall ~/.julia/packages/PyCall/1gn3u/src/PyCall.jl:558",
      " [2] top-level scope",
      "   @ In[2]:1"
     ]
    }
   ],
   "source": [
    "camb09 = pyimport(\"camb4py\").load(\"../src/camb-feb09/camb\",defaults=\"dat/lrgdr7like/CAMBfeb09patch/params.ini\")\n",
    "Pk_halo = camb09(;Dict(Symbol(k)=>v for (k,v) in Dict(\n",
    "    \"re_optical_depth\" => τ,\n",
    "    \"scalar_amp(1)\" => Aₛ,\n",
    "    \"scalar_spectral_index(1)\" => nₛ,\n",
    "    \"hubble\" => H₀,\n",
    "    \"ombh2\" => ωb,\n",
    "    \"omch2\" => ωc,\n",
    "    \"pivot_scalar\" => kₚ,\n",
    "    \"temp_cmb\" => T₀\n",
    "))...)[\"transfer_matterpower\"][2:end,1:2]\n",
    "Pk_halo = LinearInterpolation(Pk_halo[:,1],Pk_halo[:,2]);"
   ]
  },
  {
   "cell_type": "markdown",
   "metadata": {},
   "source": [
    "Now we load Reid et al. 2010 data:"
   ]
  },
  {
   "cell_type": "code",
   "execution_count": 4,
   "metadata": {},
   "outputs": [],
   "source": [
    "using DelimitedFiles\n"
   ]
  },
  {
   "cell_type": "code",
   "execution_count": 7,
   "metadata": {},
   "outputs": [
    {
     "data": {
      "text/plain": [
       "false"
      ]
     },
     "execution_count": 7,
     "metadata": {},
     "output_type": "execute_result"
    }
   ],
   "source": [
    "isfile(\"dat/lrgdr7like/data/lrgdr7_ccmeasurements.txt\")\n"
   ]
  },
  {
   "cell_type": "code",
   "execution_count": 6,
   "metadata": {
    "ExecuteTime": {
     "end_time": "2017-12-22T12:51:44.408000+01:00",
     "start_time": "2017-12-22T11:49:32.659Z"
    }
   },
   "outputs": [
    {
     "ename": "LoadError",
     "evalue": "ArgumentError: Cannot open 'dat/lrgdr7like/data/lrgdr7_ccmeasurements.txt': not a file",
     "output_type": "error",
     "traceback": [
      "ArgumentError: Cannot open 'dat/lrgdr7like/data/lrgdr7_ccmeasurements.txt': not a file",
      "",
      "Stacktrace:",
      " [1] readdlm_auto(input::String, dlm::Char, T::Type, eol::Char, auto::Bool; opts::@Kwargs{comments::Bool})",
      "   @ DelimitedFiles /snap/julia/139/share/julia/stdlib/v1.11/DelimitedFiles/src/DelimitedFiles.jl:234",
      " [2] readdlm_auto",
      "   @ /snap/julia/139/share/julia/stdlib/v1.11/DelimitedFiles/src/DelimitedFiles.jl:233 [inlined]",
      " [3] readdlm",
      "   @ /snap/julia/139/share/julia/stdlib/v1.11/DelimitedFiles/src/DelimitedFiles.jl:170 [inlined]",
      " [4] #readdlm#3",
      "   @ /snap/julia/139/share/julia/stdlib/v1.11/DelimitedFiles/src/DelimitedFiles.jl:118 [inlined]",
      " [5] top-level scope",
      "   @ In[6]:1"
     ]
    }
   ],
   "source": [
    "(k_reid,d_reid_Pk) = eachcol(readdlm(\"dat/lrgdr7like/data/lrgdr7_ccmeasurements.txt\",comments=true)[:,[1,4]])\n",
    "Σ_reid_Pk = inv(readdlm(\"dat/lrgdr7like/data/lrgdr7_invcov.txt\",comments=true))\n",
    "σ_reid_Pk = sqrt.(diag(Σ_reid_Pk));"
   ]
  },
  {
   "cell_type": "markdown",
   "metadata": {},
   "source": [
    "Finally, we compute the best fit bias parameters:"
   ]
  },
  {
   "cell_type": "code",
   "execution_count": 46,
   "metadata": {
    "ExecuteTime": {
     "end_time": "2017-12-22T12:51:49.424000+01:00",
     "start_time": "2017-12-22T11:49:32.661Z"
    }
   },
   "outputs": [
    {
     "ename": "LoadError",
     "evalue": "UndefVarError: `Pk_halo` not defined in `Main`\nSuggestion: check for spelling errors or missing imports.",
     "output_type": "error",
     "traceback": [
      "UndefVarError: `Pk_halo` not defined in `Main`\nSuggestion: check for spelling errors or missing imports.",
      "",
      "Stacktrace:",
      " [1] lnL(x::Vector{Float64})",
      "   @ Main ./In[46]:2",
      " [2] value!!(obj::NonDifferentiable{Float64, Vector{Float64}}, x::Vector{Float64})",
      "   @ NLSolversBase ~/.julia/packages/NLSolversBase/totsP/src/interface.jl:9",
      " [3] initial_state(method::NelderMead{Optim.AffineSimplexer, Optim.AdaptiveParameters}, options::Optim.Options{Float64, Nothing}, d::NonDifferentiable{Float64, Vector{Float64}}, initial_x::Vector{Float64})",
      "   @ Optim ~/.julia/packages/Optim/8dE7C/src/multivariate/solvers/zeroth_order/nelder_mead.jl:172",
      " [4] optimize(d::NonDifferentiable{Float64, Vector{Float64}}, initial_x::Vector{Float64}, method::NelderMead{Optim.AffineSimplexer, Optim.AdaptiveParameters}, options::Optim.Options{Float64, Nothing})",
      "   @ Optim ~/.julia/packages/Optim/8dE7C/src/multivariate/optimize/optimize.jl:43",
      " [5] optimize(f::Function, initial_x::Vector{Float64}; inplace::Bool, autodiff::Symbol, kwargs::@Kwargs{})",
      "   @ Optim ~/.julia/packages/Optim/8dE7C/src/multivariate/optimize/interface.jl:176",
      " [6] optimize(f::Function, initial_x::Vector{Float64})",
      "   @ Optim ~/.julia/packages/Optim/8dE7C/src/multivariate/optimize/interface.jl:162",
      " [7] top-level scope",
      "   @ In[46]:3"
     ]
    }
   ],
   "source": [
    "Fnuis(k,b₀=1,a₁=0.172,a₂=-0.198) = (kₛ=0.2/h; b₀^2*(1+a₁*(k/kₛ)+a₂*(k/kₛ)^2))\n",
    "lnL(x) = (Δ = Pk_halo(k_reid) .* Fnuis.(k_reid,x...) - d_reid_Pk; Δ'*(Σ_reid_Pk\\Δ))\n",
    "x_nuis_reid = optimize(lnL,Float64[1,0,0]).minimizer"
   ]
  },
  {
   "cell_type": "code",
   "execution_count": null,
   "metadata": {},
   "outputs": [],
   "source": [
    "α_reid = 1 ./ Fnuis.(k_reid,x_nuis_reid...) .* (Pkz(k_reid,0)./Pk_halo(k_reid)) * h^3;"
   ]
  },
  {
   "cell_type": "markdown",
   "metadata": {},
   "source": [
    "## Lyman-alpha forest"
   ]
  },
  {
   "cell_type": "code",
   "execution_count": 43,
   "metadata": {
    "scrolled": true
   },
   "outputs": [],
   "source": [
    "k_lyaf, Pk_lyaf, σ_lyaf_Pk = eachcol(readdlm(\"dat/lya/DR14_pm3d_19kbins.txt\"));\n",
    "\n",
    "using DelimitedFiles\n",
    "\n",
    "writedlm(\"lyman_alpha_power_spectrum.txt\",\n",
    "         [k_lyaf Pk_lyaf σ_lyaf_Pk],\n",
    "         '\\t')\n"
   ]
  },
  {
   "cell_type": "markdown",
   "metadata": {},
   "source": [
    "## DES"
   ]
  },
  {
   "cell_type": "markdown",
   "metadata": {},
   "source": [
    "The DES calculation assumes the following relation:\n",
    "\n",
    "$$\n",
    "\\begin{align}\n",
    "\\xi_\\pm^{ij}(\\theta) = \\frac{1}{2\\pi} \\int d\\ln k\\; \\underbrace{\\left[ \\int_0^{\\chi^H} d\\chi \\; \\ell(\\ell+1/2) J_{0/4}(\\theta\\ell)  \\frac{q^i(\\chi)q^j(\\chi)}{\\chi^2} \\frac{P(k,\\chi)}{P(k,0)} \\right]}_{ T_{\\xi P}(\\theta,k)} P(k,0)\n",
    "\\end{align}\n",
    "$$\n",
    "\n",
    "where\n",
    "$$\n",
    "\\begin{align}\n",
    "k = \\frac{\\ell+1/2}{\\chi}\n",
    "\\end{align}\n",
    "$$\n",
    "\n",
    "and the quantity in brackets $T_{\\xi P}(\\theta,k)$ are the transfer functions which we compute in this section which give us the $k$-direction error bars."
   ]
  },
  {
   "cell_type": "markdown",
   "metadata": {},
   "source": [
    "Load source counts:"
   ]
  },
  {
   "cell_type": "code",
   "execution_count": 10,
   "metadata": {
    "ExecuteTime": {
     "end_time": "2018-07-03T09:58:10.500000Z",
     "start_time": "2018-07-03T09:58:09.669Z"
    }
   },
   "outputs": [
    {
     "ename": "LoadError",
     "evalue": "UndefVarError: `LinearInterpolation` not defined in `Main`\nSuggestion: check for spelling errors or missing imports.",
     "output_type": "error",
     "traceback": [
      "UndefVarError: `LinearInterpolation` not defined in `Main`\nSuggestion: check for spelling errors or missing imports.",
      "",
      "Stacktrace:",
      " [1] (::var\"#1#2\")(i::Int64)",
      "   @ Main ./none:0",
      " [2] iterate",
      "   @ ./generator.jl:48 [inlined]",
      " [3] collect(itr::Base.Generator{UnitRange{Int64}, var\"#1#2\"})",
      "   @ Base ./array.jl:791",
      " [4] top-level scope",
      "   @ In[10]:2"
     ]
    }
   ],
   "source": [
    "nz_source_dat = readdlm(\"dat/des/DES_1YR_final_nz_source.dat\", comments=true)\n",
    "zmid = nz_source_dat[:,2]\n",
    "nz_source = [LinearInterpolation(zmid,nz_source_dat[:,i],extrapolation_bc=0) for i=4:7];"
   ]
  },
  {
   "cell_type": "markdown",
   "metadata": {},
   "source": [
    "Load $\\theta$-bins:"
   ]
  },
  {
   "cell_type": "code",
   "execution_count": 11,
   "metadata": {
    "ExecuteTime": {
     "end_time": "2018-07-03T09:58:10.606000Z",
     "start_time": "2018-07-03T09:58:10.159Z"
    }
   },
   "outputs": [],
   "source": [
    "θ_DES_arcmin = readdlm(\"dat/des/DES_1YR_final_theta_bins.dat\", comments=true)[:]\n",
    "θ_DES = deg2rad.(θ_DES_arcmin/60)[:];"
   ]
  },
  {
   "cell_type": "markdown",
   "metadata": {},
   "source": [
    "Load best-fit nuisance parameters:"
   ]
  },
  {
   "cell_type": "code",
   "execution_count": 12,
   "metadata": {
    "ExecuteTime": {
     "end_time": "2018-07-03T09:58:11.988000Z",
     "start_time": "2018-07-03T09:58:11.349Z"
    }
   },
   "outputs": [],
   "source": [
    "des_fit = Dict(k=>v for (v,k) in eachrow(readdlm(\"dat/des/base_DES_DESpriors.minimum\", comments=true)[1:end-2,2:3]));\n",
    "wl_photoz_errors             = [des_fit[\"DES_DzS$i\"] for i=1:4]\n",
    "lens_photoz_errors           = [des_fit[\"DES_DzL$i\"] for i=1:5]\n",
    "bin_bias                     = [des_fit[\"DES_b$i\"] for i=1:5]\n",
    "shear_calibration_parameters = [des_fit[\"DES_m$i\"] for i=1:4]\n",
    "intrinsic_alignment_A        = des_fit[\"DES_AIA\"]\n",
    "intrinsic_alignment_alpha    = des_fit[\"DES_alphaIA\"]\n",
    "intrinsic_alignment_z0       = 0.62;\n",
    "shear_calibration = @. (1+shear_calibration_parameters)*(1+shear_calibration_parameters)';"
   ]
  },
  {
   "cell_type": "markdown",
   "metadata": {},
   "source": [
    "Calculate theory spectra:"
   ]
  },
  {
   "cell_type": "code",
   "execution_count": 13,
   "metadata": {},
   "outputs": [],
   "source": [
    "z = z_DES = 10 .^ range(-4, log10(3.5), length=600)\n",
    "k = k_DES = 10 .^ range(-3, 1, length=600);"
   ]
  },
  {
   "cell_type": "code",
   "execution_count": 14,
   "metadata": {},
   "outputs": [
    {
     "data": {
      "text/plain": [
       "299792.458"
      ]
     },
     "execution_count": 14,
     "metadata": {},
     "output_type": "execute_result"
    }
   ],
   "source": [
    "c = 299792.458 #in km/s;"
   ]
  },
  {
   "cell_type": "code",
   "execution_count": 16,
   "metadata": {
    "ExecuteTime": {
     "end_time": "2018-07-03T10:16:18.279000Z",
     "start_time": "2018-07-03T10:16:17.681Z"
    }
   },
   "outputs": [
    {
     "ename": "LoadError",
     "evalue": "UndefVarError: `r` not defined in `Main`\nSuggestion: check for spelling errors or missing imports.",
     "output_type": "error",
     "traceback": [
      "UndefVarError: `r` not defined in `Main`\nSuggestion: check for spelling errors or missing imports.",
      "",
      "Stacktrace:",
      " [1] top-level scope",
      "   @ In[16]:1"
     ]
    }
   ],
   "source": [
    "χ = r.comoving_radial_distance(z)\n",
    "ℓ = @. k*χ'-1/2;\n",
    "D_growth = @. sqrt(Tkz²[1,z] / Tkz²[1,1]);\n",
    "Hz = r.h_of_z(z);\n",
    "\n",
    "nχ = @. Hz * map($permutedims(nz_source), z - wl_photoz_errors')\n",
    "\n",
    "Alignment_z = @. intrinsic_alignment_A * (((1 + z) / (1 + intrinsic_alignment_z0)) ^ intrinsic_alignment_alpha) * 0.0134 / D_growth;\n",
    "w_align = @. Alignment_z * nχ / (χ * (1 + z) * (3/2) * (H₀/c)^2);\n",
    "\n",
    "w = hcat([[trapz(χ[i:end], (@. nχ[:,j] * (1 - χ[i]/χ))[i:end]) for i=eachindex(χ)] for j=1:4]...);\n",
    "\n",
    "q = @. (3/2) * Ωm * (H₀/c)^2 * χ * (1 + z) * (w - w_align);"
   ]
  },
  {
   "cell_type": "markdown",
   "metadata": {},
   "source": [
    "`q` is the lensing efficiency function:"
   ]
  },
  {
   "cell_type": "code",
   "execution_count": 17,
   "metadata": {
    "ExecuteTime": {
     "end_time": "2018-07-03T10:16:18.600000Z",
     "start_time": "2018-07-03T10:16:18.037Z"
    }
   },
   "outputs": [
    {
     "ename": "LoadError",
     "evalue": "UndefVarError: `plot` not defined in `Main`\nSuggestion: check for spelling errors or missing imports.",
     "output_type": "error",
     "traceback": [
      "UndefVarError: `plot` not defined in `Main`\nSuggestion: check for spelling errors or missing imports.",
      "",
      "Stacktrace:",
      " [1] top-level scope",
      "   @ In[17]:1"
     ]
    }
   ],
   "source": [
    "plot(z,q)\n",
    "xlabel(raw\"$z$\")\n",
    "ylabel(raw\"$q^i(z)$\");"
   ]
  },
  {
   "cell_type": "markdown",
   "metadata": {},
   "source": [
    "The correlation functions:"
   ]
  },
  {
   "cell_type": "code",
   "execution_count": 18,
   "metadata": {
    "ExecuteTime": {
     "end_time": "2018-07-03T10:17:15.364000Z",
     "start_time": "2018-07-03T10:16:20.197Z"
    }
   },
   "outputs": [],
   "source": [
    "ijs = [(i,j) for j=1:4, i=1:4 if i<=j];"
   ]
  },
  {
   "cell_type": "code",
   "execution_count": 19,
   "metadata": {
    "ExecuteTime": {
     "end_time": "2018-07-03T10:17:14.067000Z",
     "start_time": "2018-07-03T10:16:19.857Z"
    }
   },
   "outputs": [
    {
     "ename": "LoadError",
     "evalue": "UndefVarError: `q` not defined in `Main`\nSuggestion: check for spelling errors or missing imports.",
     "output_type": "error",
     "traceback": [
      "UndefVarError: `q` not defined in `Main`\nSuggestion: check for spelling errors or missing imports.",
      "",
      "Stacktrace:",
      " [1] (::var\"#17#18\")(::Tuple{Int64, Int64})",
      "   @ Main ./none:0",
      " [2] iterate",
      "   @ ./generator.jl:48 [inlined]",
      " [3] grow_to!(dest::Dict{Any, Any}, itr::Base.Generator{Vector{Tuple{Int64, Int64}}, var\"#17#18\"})",
      "   @ Base ./abstractdict.jl:591",
      " [4] dict_with_eltype",
      "   @ ./abstractdict.jl:645 [inlined]",
      " [5] Dict(kv::Base.Generator{Vector{Tuple{Int64, Int64}}, var\"#17#18\"})",
      "   @ Base ./dict.jl:117",
      " [6] top-level scope",
      "   @ In[19]:1"
     ]
    }
   ],
   "source": [
    "Pκ = Dict((i,j) => (@. q[:,i]*q[:,j]/χ^2 * PNLkz[k,z]) for (i,j)=ijs)\n",
    "\n",
    "@time (ξ₊_θ, ξ₋_θ) = (Dict((i,j) => [0.85/2π * trapz(log.(k), trapz(χ, (@. ℓ*(ℓ+1/2)*besselj(n,θ*ℓ) * Pκ[i,j]'), 1)) * shear_calibration[i,j] for θ=θ_DES] \n",
    "    for (i,j)=ijs) for n=(0,4));"
   ]
  },
  {
   "cell_type": "markdown",
   "metadata": {},
   "source": [
    "Load DES data and covariance:"
   ]
  },
  {
   "cell_type": "code",
   "execution_count": 20,
   "metadata": {
    "ExecuteTime": {
     "end_time": "2018-07-03T10:17:15.364000Z",
     "start_time": "2018-07-03T10:16:20.197Z"
    }
   },
   "outputs": [
    {
     "ename": "LoadError",
     "evalue": "UndefVarError: `diag` not defined in `Main`\nSuggestion: check for spelling errors or missing imports.\nHint: a global variable of this name may be made accessible by importing LinearAlgebra in the current active module Main",
     "output_type": "error",
     "traceback": [
      "UndefVarError: `diag` not defined in `Main`\nSuggestion: check for spelling errors or missing imports.\nHint: a global variable of this name may be made accessible by importing LinearAlgebra in the current active module Main",
      "",
      "Stacktrace:",
      " [1] top-level scope",
      "   @ In[20]:4"
     ]
    }
   ],
   "source": [
    "ξ₊_DES  = Dict((i,j)=>x for ((i,j),x) in zip(ijs,eachcol(reshape(readdlm(\"dat/des/DES_1YR_final_xip.dat\", comments=true)[:,4],20,10))))\n",
    "ξ₋_DES  = Dict((i,j)=>x for ((i,j),x) in zip(ijs,eachcol(reshape(readdlm(\"dat/des/DES_1YR_final_xim.dat\", comments=true)[:,4],20,10))))\n",
    "covξ₊_DES = readdlm(\"dat/des/DES_1YR_final_cov.dat\")[1:200,1:200]\n",
    "covξ₋_DES = readdlm(\"dat/des/DES_1YR_final_cov.dat\")[201:400,201:400]\n",
    "σξ₊_DES = Dict((i,j)=>x for ((i,j),x) in zip(ijs,eachcol(reshape(sqrt.(diag(readdlm(\"dat/des/DES_1YR_final_cov.dat\", comments=true)))[1:200],20,10))));\n",
    "σξ₋_DES = Dict((i,j)=>x for ((i,j),x) in zip(ijs,eachcol(reshape(sqrt.(diag(readdlm(\"dat/des/DES_1YR_final_cov.dat\", comments=true)))[201:400],20,10))));\n",
    "ξ₊cut_DES = Dict((i,j)=>[θmin,θmax] for (i,j,θmin,θmax) in eachrow(readdlm(\"dat/des/DES_1YR_final_selection.dat\", comments=true)[1:10,2:end]));\n",
    "ξ₋cut_DES = Dict((i,j)=>[θmin,θmax] for (i,j,θmin,θmax) in eachrow(readdlm(\"dat/des/DES_1YR_final_selection.dat\", comments=true)[11:20,2:end]));"
   ]
  },
  {
   "cell_type": "markdown",
   "metadata": {},
   "source": [
    "Plot data vs. theory for sanity check:"
   ]
  },
  {
   "cell_type": "code",
   "execution_count": 21,
   "metadata": {
    "ExecuteTime": {
     "end_time": "2018-07-03T10:37:50.447000Z",
     "start_time": "2018-07-03T10:37:48.274Z"
    }
   },
   "outputs": [
    {
     "ename": "LoadError",
     "evalue": "UndefVarError: `figure` not defined in `Main`\nSuggestion: check for spelling errors or missing imports.",
     "output_type": "error",
     "traceback": [
      "UndefVarError: `figure` not defined in `Main`\nSuggestion: check for spelling errors or missing imports.",
      "",
      "Stacktrace:",
      " [1] top-level scope",
      "   @ In[21]:1"
     ]
    }
   ],
   "source": [
    "figure(figsize=(13,13))\n",
    "for i=1:4, j=1:4\n",
    "    if i<=j\n",
    "        subplot(4,4,4*(i-1)+j)\n",
    "        fac = 1e4 * θ_DES_arcmin\n",
    "        \n",
    "        semilogx(θ_DES_arcmin, fac .* ξ₊_θ[i,j], c=\"C0\")\n",
    "        semilogx(θ_DES_arcmin, fac .* ξ₋_θ[i,j], c=\"C1\")\n",
    "        \n",
    "        errorbar(θ_DES_arcmin, fac .* ξ₊_DES[i,j], fac .* σξ₊_DES[i,j], marker=\".\", ls=\"\", c=\"C0\")\n",
    "        errorbar(θ_DES_arcmin, fac .* ξ₋_DES[i,j], fac .* σξ₋_DES[i,j], marker=\".\", ls=\"\", c=\"C1\")\n",
    "        \n",
    "        title(\"$i-$j\")\n",
    "        if i==j==1\n",
    "            legend([raw\"$\\xi^+$\",raw\"$\\xi^-$\"])\n",
    "            xlabel(raw\"$\\theta\\,[\\rm arcmin]$\")\n",
    "            ylabel(raw\"$\\xi\\theta/10^{-4}$\")\n",
    "        end\n",
    "        ylim(-1,[1.5,2,3,5][i])\n",
    "        \n",
    "        let (ymin,ymax)=ylim(); \n",
    "            fill_between(ξ₊cut_DES[i,j], fill(ymin,2), fill(ymax,2), color=\"C0\", alpha=0.2)\n",
    "            fill_between(ξ₋cut_DES[i,j], fill(ymin,2), fill(ymax,2), color=\"C1\", alpha=0.2)\n",
    "        end\n",
    "    end\n",
    "end"
   ]
  },
  {
   "cell_type": "markdown",
   "metadata": {},
   "source": [
    "Now compute the transfer function, $T_{\\xi P}(\\theta,k)$. Note, we use a trick from Section B of Tegmark & Zaldarriaga 2002 to account for the impact from nonlinearities on which $k$ scales a given measurement is sensitive to:"
   ]
  },
  {
   "cell_type": "code",
   "execution_count": 22,
   "metadata": {},
   "outputs": [
    {
     "data": {
      "text/plain": [
       "fNL (generic function with 2 methods)"
      ]
     },
     "execution_count": 22,
     "metadata": {},
     "output_type": "execute_result"
    }
   ],
   "source": [
    "function fNL(x,n=nₛ)\n",
    "    A = 0.482*(1+n/3)^-0.947\n",
    "    B = 0.226*(1+n/3)^-1.778\n",
    "    α = 3.310*(1+n/3)^-0.244\n",
    "    β = 0.862*(1+n/3)^-0.287\n",
    "    V = 11.55*(1+n/3)^-0.423\n",
    "    g = 5/2*Ωm*(Ωm^(4/7)-ΩΛ+(1+Ωm/2)*(1+ΩΛ/70))^-1\n",
    "    x * ((1+B*β*x+(A*x)^(α*β)) / (1+(((A*x)^α)*g^3/(V*sqrt(x))^β)))^(1/β)\n",
    "end"
   ]
  },
  {
   "cell_type": "code",
   "execution_count": 23,
   "metadata": {},
   "outputs": [
    {
     "data": {
      "text/plain": [
       "ΔNL² (generic function with 2 methods)"
      ]
     },
     "execution_count": 23,
     "metadata": {},
     "output_type": "execute_result"
    }
   ],
   "source": [
    "Δ²(k,z=0)   = @. 4π*k^3/(2π)^3*Pkz[k,z]\n",
    "ΔNL²(k,z=0) = @. 4π*k^3/(2π)^3*PNLkz[k,z]"
   ]
  },
  {
   "cell_type": "code",
   "execution_count": 24,
   "metadata": {},
   "outputs": [
    {
     "data": {
      "text/plain": [
       "k_of_k′ (generic function with 2 methods)"
      ]
     },
     "execution_count": 24,
     "metadata": {},
     "output_type": "execute_result"
    }
   ],
   "source": [
    "k′_of_k(k, z=0) = @. k * (1 + fNL($Δ²(k))/(1+z')^2)^(-1/3)\n",
    "k_of_k′(k′,z=0) = hcat([LinearInterpolation(k′_of_k(k,z), k, extrapolation_bc=Line()).(k′) for z=z]...)"
   ]
  },
  {
   "cell_type": "code",
   "execution_count": 25,
   "metadata": {},
   "outputs": [
    {
     "ename": "LoadError",
     "evalue": "UndefVarError: `Pkz` not defined in `Main`\nSuggestion: check for spelling errors or missing imports.",
     "output_type": "error",
     "traceback": [
      "UndefVarError: `Pkz` not defined in `Main`\nSuggestion: check for spelling errors or missing imports.",
      "",
      "Stacktrace:",
      " [1] Δ²(k::Vector{Float64}, z::Int64)",
      "   @ Main ./In[23]:1",
      " [2] Δ²",
      "   @ ./In[23]:1 [inlined]",
      " [3] k′_of_k(k::Vector{Float64}, z::Float64)",
      "   @ Main ./In[24]:1",
      " [4] (::var\"#25#26\"{Vector{Float64}})(z::Float64)",
      "   @ Main ./none:0",
      " [5] iterate",
      "   @ ./generator.jl:48 [inlined]",
      " [6] collect(itr::Base.Generator{Vector{Float64}, var\"#25#26\"{Vector{Float64}}})",
      "   @ Base ./array.jl:791",
      " [7] k_of_k′(k′::Vector{Float64}, z::Vector{Float64})",
      "   @ Main ./In[24]:2",
      " [8] top-level scope",
      "   @ In[25]:1"
     ]
    }
   ],
   "source": [
    "k′ = 10 .^ range(-3,log10(100),length=600)\n",
    "ℓ = max.(0, k_of_k′(k′,z).*χ' .- 1/2);\n",
    "dlnk_dlnk′ = [ones(length(χ))'; diff(log.(k_of_k′(k′,z)),dims=1) ./ diff(log.(k′))];"
   ]
  },
  {
   "cell_type": "code",
   "execution_count": 26,
   "metadata": {},
   "outputs": [
    {
     "ename": "LoadError",
     "evalue": "UndefVarError: `q` not defined in `Main`\nSuggestion: check for spelling errors or missing imports.",
     "output_type": "error",
     "traceback": [
      "UndefVarError: `q` not defined in `Main`\nSuggestion: check for spelling errors or missing imports.",
      "",
      "Stacktrace:",
      " [1] (::var\"#27#28\")(::Tuple{Int64, Int64})",
      "   @ Main ./none:0",
      " [2] iterate",
      "   @ ./generator.jl:48 [inlined]",
      " [3] grow_to!(dest::Dict{Any, Any}, itr::Base.Generator{Vector{Tuple{Int64, Int64}}, var\"#27#28\"})",
      "   @ Base ./abstractdict.jl:591",
      " [4] dict_with_eltype",
      "   @ ./abstractdict.jl:645 [inlined]",
      " [5] Dict(kv::Base.Generator{Vector{Tuple{Int64, Int64}}, var\"#27#28\"})",
      "   @ Base ./dict.jl:117",
      " [6] top-level scope",
      "   @ In[26]:1"
     ]
    }
   ],
   "source": [
    "Pκ = Dict((i,j) => (@. q[:,i]*q[:,j]/χ^2 * Pkz[k′,z] / Pkz[k′,0]') for (i,j)=ijs)\n",
    "\n",
    "@time (Tξ₊P,Tξ₋P) = (Dict((i,j) => [trapz(χ, (@. dlnk_dlnk′*ℓ*(ℓ+1)*besselj(n,θ*ℓ) * Pκ[i,j]'), 1) for θ=θ_DES]\n",
    "    for (i,j)=ijs) for n=(0,4));"
   ]
  },
  {
   "cell_type": "markdown",
   "metadata": {},
   "source": [
    "Plot up some of the transfer functions:"
   ]
  },
  {
   "cell_type": "code",
   "execution_count": 27,
   "metadata": {},
   "outputs": [
    {
     "data": {
      "text/plain": [
       "killhighfreqnoise (generic function with 1 method)"
      ]
     },
     "execution_count": 27,
     "metadata": {},
     "output_type": "execute_result"
    }
   ],
   "source": [
    "killhighfreqnoise(x) = (i=findfirst(x.<0); x[(i==nothing ? end : i-10):end].=0; x[end-10:end].=0; x ./ sum(abs.(x)))"
   ]
  },
  {
   "cell_type": "code",
   "execution_count": 28,
   "metadata": {},
   "outputs": [
    {
     "ename": "LoadError",
     "evalue": "UndefVarError: `Tξ₋P` not defined in `Main`\nSuggestion: check for spelling errors or missing imports.",
     "output_type": "error",
     "traceback": [
      "UndefVarError: `Tξ₋P` not defined in `Main`\nSuggestion: check for spelling errors or missing imports.",
      "",
      "Stacktrace:",
      " [1] top-level scope",
      "   @ ./In[28]:2"
     ]
    }
   ],
   "source": [
    "for i=1:1,j=1:1,θ=1:8:20\n",
    "    T = killhighfreqnoise(Tξ₋P[i,j][θ])\n",
    "    l, = semilogx(k′/h, T, c=get_cmap(\"jet\",20)(θ))\n",
    "    low,mid,high = get_quantiles(k′, T, [0; diff(log.(k′))])\n",
    "    fill_between(k′/h, 0T, T.*ifelse.(low.<k′.<high,1,0), color=l.get_color(), alpha=0.5)\n",
    "    imid = findmin(@. (k′-mid)^2)[2]\n",
    "    plot(fill(k′[imid]/h,2),[0,T[imid]], color=l.get_color())\n",
    "end\n",
    "\n",
    "# ylim(0,0.03)\n",
    "ylabel(raw\"$\\; T_{\\xi P}(\\theta_i,k)$\")\n",
    "xlabel(raw\"${\\rm Wavenumber} \\; k \\; [h/{\\rm Mpc}]$\");"
   ]
  },
  {
   "cell_type": "markdown",
   "metadata": {},
   "source": [
    "Bin together different redshifts (one could chose different binning, this one seems to give 5 adequately spaced bins in the end):"
   ]
  },
  {
   "cell_type": "code",
   "execution_count": 29,
   "metadata": {},
   "outputs": [
    {
     "ename": "LoadError",
     "evalue": "UndefVarError: `repeated` not defined in `Main`\nSuggestion: check for spelling errors or missing imports.",
     "output_type": "error",
     "traceback": [
      "UndefVarError: `repeated` not defined in `Main`\nSuggestion: check for spelling errors or missing imports.",
      "",
      "Stacktrace:",
      " [1] (::var\"#29#30\")(i::Int64)",
      "   @ Main ./none:0",
      " [2] iterate",
      "   @ ./generator.jl:48 [inlined]",
      " [3] collect(itr::Base.Generator{UnitRange{Int64}, var\"#29#30\"})",
      "   @ Base ./array.jl:791",
      " [4] top-level scope",
      "   @ In[29]:1"
     ]
    }
   ],
   "source": [
    "B = hcat([vcat(repeated([zeros(4*i); ones(4); zeros(20-4*(i+1))],10)...) for i=0:4]...);"
   ]
  },
  {
   "cell_type": "code",
   "execution_count": 30,
   "metadata": {},
   "outputs": [
    {
     "ename": "LoadError",
     "evalue": "UndefVarError: `semilogx` not defined in `Main`\nSuggestion: check for spelling errors or missing imports.",
     "output_type": "error",
     "traceback": [
      "UndefVarError: `semilogx` not defined in `Main`\nSuggestion: check for spelling errors or missing imports.",
      "",
      "Stacktrace:",
      " [1] top-level scope",
      "   @ In[30]:1"
     ]
    }
   ],
   "source": [
    "semilogx.((k′,), killhighfreqnoise.(B' * vcat((Tξ₋P[i,j] for (i,j)=ijs)...)));"
   ]
  },
  {
   "cell_type": "code",
   "execution_count": 31,
   "metadata": {
    "scrolled": true
   },
   "outputs": [
    {
     "ename": "LoadError",
     "evalue": "UndefVarError: `B` not defined in `Main`\nSuggestion: check for spelling errors or missing imports.",
     "output_type": "error",
     "traceback": [
      "UndefVarError: `B` not defined in `Main`\nSuggestion: check for spelling errors or missing imports.",
      "",
      "Stacktrace:",
      " [1] top-level scope",
      "   @ In[31]:1"
     ]
    }
   ],
   "source": [
    "ξb_theory = B' * vcat((ξ₋_θ[i,j] for (i,j) in ijs)...)\n",
    "ξb_data = B' * vcat((ξ₋_DES[i,j] for (i,j) in ijs)...)\n",
    "σξb = sqrt.(diag(B'*covξ₋_DES*B));"
   ]
  },
  {
   "cell_type": "code",
   "execution_count": 32,
   "metadata": {},
   "outputs": [
    {
     "ename": "LoadError",
     "evalue": "UndefVarError: `get_quantiles` not defined in `Main`\nSuggestion: check for spelling errors or missing imports.",
     "output_type": "error",
     "traceback": [
      "UndefVarError: `get_quantiles` not defined in `Main`\nSuggestion: check for spelling errors or missing imports.",
      "",
      "Stacktrace:",
      " [1] top-level scope",
      "   @ In[32]:1"
     ]
    }
   ],
   "source": [
    "kb_DES = hcat(get_quantiles.((k′,), killhighfreqnoise.(B' * vcat((Tξ₋P[i,j] for (i,j)=ijs)...)), ([0; diff(log.(k′))],))...)'"
   ]
  },
  {
   "cell_type": "markdown",
   "metadata": {},
   "source": [
    "## $\\chi^2$'s"
   ]
  },
  {
   "cell_type": "markdown",
   "metadata": {},
   "source": [
    "For completeness, compute the $\\chi^2$  of the data points against the model (assuming no error in the k-direction), although these numbers should not be taken too seriously as this is not an exact analysis. "
   ]
  },
  {
   "cell_type": "code",
   "execution_count": 33,
   "metadata": {},
   "outputs": [
    {
     "data": {
      "text/plain": [
       "plot_data_to_χ² (generic function with 1 method)"
      ]
     },
     "execution_count": 33,
     "metadata": {},
     "output_type": "execute_result"
    }
   ],
   "source": [
    "plot_data_to_χ²(dat) = (sum(@. (dat[3] - 1)^2 / (dat[1]^2)), length(dat[1]))"
   ]
  },
  {
   "cell_type": "code",
   "execution_count": 34,
   "metadata": {},
   "outputs": [
    {
     "ename": "LoadError",
     "evalue": "UndefVarError: `k_CMB` not defined in `Main`\nSuggestion: check for spelling errors or missing imports.",
     "output_type": "error",
     "traceback": [
      "UndefVarError: `k_CMB` not defined in `Main`\nSuggestion: check for spelling errors or missing imports.",
      "",
      "Stacktrace:",
      " [1] top-level scope",
      "   @ In[34]:1"
     ]
    }
   ],
   "source": [
    "let k=k_CMB, ℓ=ℓ_CMB\n",
    "    global χ²TT = plot_data_to_χ²(get_plot_data(d_planck_TT, Σ_planck_TT, B_planck_TT,     CℓTT, WkℓTT, k, ℓ, [[1, 3, 5, 20]; fill(5,2); fill(10,5); fill(20,7)]))\n",
    "    global χ²EE = plot_data_to_χ²(get_plot_data(d_high_EE,   Σ_high_EE,   B_high[:,1:199], CℓEE, WkℓEE, k, ℓ, [fill(5,2); fill(10,5); fill(20,6); 19]))\n",
    "    global χ²ϕϕ = plot_data_to_χ²(get_plot_data(d_ϕϕ,        Σ_ϕϕ,        B_ϕϕ,            (@. Cℓϕϕ * (ℓ*(ℓ+1))^2/(2π)), Wkℓϕϕ, k, ℓ, [1,1,2,2,2,3,3]))\n",
    "end"
   ]
  },
  {
   "cell_type": "code",
   "execution_count": 35,
   "metadata": {},
   "outputs": [
    {
     "ename": "LoadError",
     "evalue": "UndefVarError: `σξb` not defined in `Main`\nSuggestion: check for spelling errors or missing imports.",
     "output_type": "error",
     "traceback": [
      "UndefVarError: `σξb` not defined in `Main`\nSuggestion: check for spelling errors or missing imports.",
      "",
      "Stacktrace:",
      " [1] top-level scope",
      "   @ In[35]:1"
     ]
    }
   ],
   "source": [
    "χ²DES = plot_data_to_χ²((σξb ./ ξb_theory, kb_DES, (ξb_data ./ ξb_theory)))"
   ]
  },
  {
   "cell_type": "code",
   "execution_count": 36,
   "metadata": {},
   "outputs": [
    {
     "data": {
      "text/plain": [
       "1.2"
      ]
     },
     "execution_count": 36,
     "metadata": {},
     "output_type": "execute_result"
    }
   ],
   "source": [
    "kpow = 1.2"
   ]
  },
  {
   "cell_type": "code",
   "execution_count": 37,
   "metadata": {},
   "outputs": [
    {
     "ename": "LoadError",
     "evalue": "UndefVarError: `k_reid` not defined in `Main`\nSuggestion: check for spelling errors or missing imports.",
     "output_type": "error",
     "traceback": [
      "UndefVarError: `k_reid` not defined in `Main`\nSuggestion: check for spelling errors or missing imports.",
      "",
      "Stacktrace:",
      " [1] top-level scope",
      "   @ In[37]:1"
     ]
    }
   ],
   "source": [
    "χ²LRG = (sum(@. (k_reid^kpow * (α_reid * d_reid_Pk - h^3*Pkz[k_reid,0]))^2 / (k_reid^kpow * (α_reid * σ_reid_Pk))^2), length(k_reid))"
   ]
  },
  {
   "cell_type": "code",
   "execution_count": 38,
   "metadata": {},
   "outputs": [
    {
     "ename": "LoadError",
     "evalue": "UndefVarError: `h` not defined in `Main`\nSuggestion: check for spelling errors or missing imports.",
     "output_type": "error",
     "traceback": [
      "UndefVarError: `h` not defined in `Main`\nSuggestion: check for spelling errors or missing imports.",
      "",
      "Stacktrace:",
      " [1] top-level scope",
      "   @ In[38]:1"
     ]
    }
   ],
   "source": [
    "χ²Lyα = (sum(@. (k_lyaf^kpow * (Pk_lyaf - h^3*Pkz[k_lyaf,0]))^2 / (k_lyaf.^kpow .* σ_lyaf_Pk)^2), length(k_lyaf))"
   ]
  },
  {
   "cell_type": "code",
   "execution_count": 39,
   "metadata": {},
   "outputs": [
    {
     "ename": "LoadError",
     "evalue": "UndefVarError: `χ²TT` not defined in `Main`\nSuggestion: check for spelling errors or missing imports.",
     "output_type": "error",
     "traceback": [
      "UndefVarError: `χ²TT` not defined in `Main`\nSuggestion: check for spelling errors or missing imports.",
      "",
      "Stacktrace:",
      " [1] top-level scope",
      "   @ In[39]:1"
     ]
    }
   ],
   "source": [
    "@. χ²TT + χ²EE + χ²ϕϕ + χ²DES + χ²LRG + χ²Lyα"
   ]
  },
  {
   "cell_type": "markdown",
   "metadata": {},
   "source": [
    "## Make plot"
   ]
  },
  {
   "cell_type": "code",
   "execution_count": 40,
   "metadata": {
    "ExecuteTime": {
     "end_time": "2017-12-22T12:57:33.301000+01:00",
     "start_time": "2017-12-22T11:57:31.814Z"
    }
   },
   "outputs": [
    {
     "ename": "LoadError",
     "evalue": "UndefVarError: `figure` not defined in `Main`\nSuggestion: check for spelling errors or missing imports.",
     "output_type": "error",
     "traceback": [
      "UndefVarError: `figure` not defined in `Main`\nSuggestion: check for spelling errors or missing imports.",
      "",
      "Stacktrace:",
      " [1] top-level scope",
      "   @ In[40]:1"
     ]
    }
   ],
   "source": [
    "figure(figsize=(7,7),dpi=170)\n",
    "\n",
    "gs = pyimport(\"matplotlib.gridspec\").GridSpec(2, 1, height_ratios=[3, 1]) \n",
    "gs.update(hspace=0.05)\n",
    "ebar_kwargs = Dict(:capsize=>2, :elinewidth=>1, :markeredgewidth=>1, :marker=>\".\", :ls=>\"\", :markersize=>4);\n",
    "\n",
    "# ==========\n",
    "# Main panel\n",
    "# ==========\n",
    "\n",
    "subplot(get(gs,0))\n",
    "\n",
    "\n",
    "# Fiducial theory model\n",
    "let k = 10 .^ range(-5,1,length=100)\n",
    "    plot(k/h, h^3 * PNLkz[k,0],\"k:\", lw=1, zorder=-10, alpha=0.4)\n",
    "    plot(k/h, h^3 * Pkz[k,0],\"k\", zorder=-10)\n",
    "end\n",
    "\n",
    "\n",
    "\n",
    "# Planck\n",
    "let k=k_CMB, ℓ=ℓ_CMB\n",
    "    make_plot(get_plot_data(d_planck_TT, Σ_planck_TT, B_planck_TT,     CℓTT, WkℓTT, k, ℓ, [[1, 3, 5, 20]; fill(5,2); fill(10,5); fill(20,7)])..., label=\"Planck 2018 TT\", zorder=-1)\n",
    "    make_plot(get_plot_data(d_high_EE,   Σ_high_EE,   B_high[:,1:199], CℓEE, WkℓEE, k, ℓ, [fill(5,2); fill(10,5); fill(20,6); 19])...,            label=\"Planck 2018 EE\", zorder=-2)\n",
    "    make_plot(get_plot_data(d_ϕϕ,        Σ_ϕϕ,        B_ϕϕ,            (@. Cℓϕϕ * (ℓ*(ℓ+1))^2/(2π)), Wkℓϕϕ, k, ℓ, [1,1,2,2,2,3,3])...,            label=\"Planck 2018 ϕϕ\", zorder=-3)\n",
    "    # make_plot(get_plot_data(d_high_TE,   Σ_high_TE,   B_high[:,1:199], CℓTE, WkℓTE, [fill(5,2); fill(10,5); fill(20,6); 19])...,            label=\"Planck TE\")\n",
    "end\n",
    "\n",
    "\n",
    "# DES\n",
    "make_plot(σξb ./ ξb_theory, kb_DES, (ξb_data ./ ξb_theory), label=\"DES Y1 cosmic shear\", c=\"C8\")\n",
    "writedlm(\"des_y1_cosmic_shear.txt\", [kb_DES ξb_theory ξb_data σξb], '\\t')\n",
    "\n",
    "\n",
    "# Reid et al. 2010\n",
    "errorbar(k_reid/h, α_reid .* d_reid_Pk, yerr=(α_reid .* σ_reid_Pk), label=\"SDSS DR7 LRG\", zorder=-5; ebar_kwargs...)\n",
    "using DelimitedFiles\n",
    "writedlm(\"sdss_reid_2010.txt\", [k_reid/h Pkz[k_reid,0] α_reid .* d_reid_Pk α_reid .* σ_reid_Pk], '\\t')\n",
    "\n",
    "\n",
    "# Lyman-alpha forest\n",
    "errorbar(k_lyaf/h, Pk_lyaf, yerr = σ_lyaf_Pk, label=\"eBOSS DR14 Ly-α forest\", zorder=4; ebar_kwargs...)\n",
    "writedlm(\"lyman_alpha_dr14.txt\", [k_lyaf/h Pkz[k_lyaf,0] Pk_lyaf σ_lyaf_Pk], '\\t')\n",
    "\n",
    "\n",
    "\n",
    "xscale(\"log\")\n",
    "yscale(\"log\")\n",
    "legend(loc=\"lower center\")\n",
    "xlim(1e-4,6)\n",
    "ylim(1,5e4)\n",
    "ylabel(raw\"$\\; P_{\\rm m}(k) \\;\\; [({\\rm Mpc}/h)^3]$\")\n",
    "gca().set_xticklabels([])\n",
    "\n",
    "\n",
    "# ==============\n",
    "# Residual panel\n",
    "# ==============\n",
    "\n",
    "subplot(get(gs,1))\n",
    "\n",
    "kpow = 1.2\n",
    "\n",
    "# Planck\n",
    "let k=k_CMB, ℓ=ℓ_CMB\n",
    "    make_plot(get_plot_data(d_planck_TT, Σ_planck_TT, B_planck_TT,     CℓTT, WkℓTT, k, ℓ, [[1, 3, 5, 20]; fill(5,2); fill(10,5); fill(20,7)])..., zorder=-1, residual=true, kpow=kpow)\n",
    "    make_plot(get_plot_data(d_high_EE,   Σ_high_EE,   B_high[:,1:199], CℓEE, WkℓEE, k, ℓ, [fill(5,2); fill(10,5); fill(20,6); 19])...,            zorder=-2, residual=true, kpow=kpow)\n",
    "    make_plot(get_plot_data(d_ϕϕ,        Σ_ϕϕ,        B_ϕϕ,            (@. Cℓϕϕ * (ℓ*(ℓ+1))^2/(2π)), Wkℓϕϕ, k, ℓ, [1,1,2,2,2,3,3])...,            zorder=-3, residual=true, kpow=kpow)\n",
    "end\n",
    "\n",
    "# DES\n",
    "make_plot(σξb ./ ξb_theory, kb_DES, (ξb_data ./ ξb_theory), label=\"DES Y1 cosmic shear\", c=\"C8\", residual=true, kpow=kpow)\n",
    "\n",
    "\n",
    "# Reid et al. 2010\n",
    "errorbar(k_reid/h, k_reid.^kpow .* (α_reid .* d_reid_Pk .- h^3*Pkz[k_reid,0]), yerr=k_reid.^kpow .* (α_reid .* σ_reid_Pk), label=\"SDSS DR7 LRG\", zorder=-5; ebar_kwargs...)\n",
    "\n",
    "\n",
    "# Lyman-alpha forest\n",
    "errorbar(k_lyaf/h, k_lyaf.^kpow .* (Pk_lyaf .- h^3*Pkz[k_lyaf,0]), yerr = k_lyaf.^kpow .* σ_lyaf_Pk, label=\"eBOSS DR14 Ly-α forest\", zorder=4; ebar_kwargs...)\n",
    "\n",
    "\n",
    "plot([1e-4, 6], [0,0], \"k--\", lw=1, zorder=-100)\n",
    "xscale(\"log\")\n",
    "yscale(\"linear\")\n",
    "\n",
    "xlim(1e-4,6)\n",
    "ylim(-70,70)\n",
    "\n",
    "ylabel(raw\"$\\; (k \\, {\\rm Mpc})^{1.2} \\Delta P_{\\rm m}(k) \\;\\; [({\\rm Mpc}/h)^3] $\")\n",
    "xlabel(raw\"${\\rm Wavenumber} \\; k \\;\\; [h/{\\rm Mpc}]$\")\n",
    "\n",
    "\n",
    "savefig(\"mpk_compilation.pdf\", bbox_inches=\"tight\")\n",
    "savefig(\"mpk_compilation.png\", bbox_inches=\"tight\")\n"
   ]
  }
 ],
 "metadata": {
  "kernelspec": {
   "display_name": "Julia 1.11.5",
   "language": "julia",
   "name": "julia-1.11"
  },
  "language_info": {
   "file_extension": ".jl",
   "mimetype": "application/julia",
   "name": "julia",
   "version": "1.11.5"
  },
  "toc": {
   "nav_menu": {},
   "number_sections": true,
   "sideBar": true,
   "skip_h1_title": false,
   "toc_cell": false,
   "toc_position": {
    "height": "739.163px",
    "left": "0px",
    "right": "20px",
    "top": "109.821px",
    "width": "275.971px"
   },
   "toc_section_display": "block",
   "toc_window_display": true
  }
 },
 "nbformat": 4,
 "nbformat_minor": 4
}
